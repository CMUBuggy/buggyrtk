{
 "cells": [
  {
   "cell_type": "markdown",
   "id": "f0953b10-3315-4837-a006-eb317b46b39e",
   "metadata": {},
   "source": [
    "# Freeroll\n",
    "This notebook is focused on analyzing the freeroll. The goal is to understand how efficient the buggy is in preserving its forward momentum as it progresses through the freeroll.\n",
    "\n",
    "At the high level, we will be focusing on speed to understand small differences in freeroll time, and then on acceleration and drag to understand small differences in speed.\n",
    "\n",
    "### Reference Track\n",
    "The reference track provides a consistent set of reference points for us to align our data to. While you should care that the track is generally representative of your best line, you might prefer to keep the same reference track for an entire semester so your analysis is consistent."
   ]
  },
  {
   "cell_type": "code",
   "execution_count": null,
   "id": "0b1b9fc9-4ec7-41e7-a39f-cafdfc57491d",
   "metadata": {
    "tags": []
   },
   "outputs": [],
   "source": [
    "%matplotlib widget\n",
    "import json\n",
    "import os\n",
    "import time\n",
    "import matplotlib.pyplot as plt\n",
    "import numpy as np\n",
    "import pandas as pd\n",
    "\n",
    "from glob import glob\n",
    "\n",
    "from plot_utils import *\n",
    "from constants import *\n",
    "\n",
    "import reference\n",
    "reference_distance, reference_track = reference.load(f'{DATA_DIR}/parsed/yyyy-mm-dd_hhmmss_SonOfThunderpuppy_0.csv')\n",
    "print(f'Loaded {len(reference_distance)} reference points from {reference_track.data_path}')"
   ]
  },
  {
   "cell_type": "code",
   "execution_count": null,
   "id": "aeb3da70-ffd9-4494-a8f2-9535ba7e9c9f",
   "metadata": {},
   "outputs": [],
   "source": [
    "from track import Track\n",
    "# Load track data and list all the processed files\n",
    "file_patterns = [\n",
    "    f'{DATA_DIR}/parsed/yyyy-mm-dd_*',\n",
    "]\n",
    "data_files = [file for pattern in file_patterns for file in glob(pattern)]\n",
    "data = []\n",
    "for data_file in data_files:\n",
    "    label = os.path.splitext(os.path.basename(data_file))[0]\n",
    "    data.append(Track(\n",
    "        label, data_file, reference_track,\n",
    "    ))\n",
    "    print(f'Loaded {label}')"
   ]
  },
  {
   "cell_type": "markdown",
   "id": "674f9eee-fbfc-4f36-9d92-4210a02624c2",
   "metadata": {},
   "source": [
    "# Plotting Against Time\n",
    "Time is a relative measurement. For it to be useful, you need to know what it is relative to. With GPS data, we can align our time axis to any split point we can imagine. There are a lot of variables that factor into when a buggy reaches a specific point, and the further you get from the chosen split, the more difficult it is going to be to make meaningful comparisons between rolls.\n",
    "\n",
    "Adjust `split_idx` to align to different split points and compare your data.\n",
    "\n",
    "Note that different rolls will enter and exit the freeroll at different times depending on how fast the buggy was rolling."
   ]
  },
  {
   "cell_type": "code",
   "execution_count": null,
   "id": "a6c8d51e-74d9-4382-8fce-3c14a9e28823",
   "metadata": {},
   "outputs": [],
   "source": [
    "plt.figure()\n",
    "\n",
    "split_idx = 120\n",
    "variables = [SPEED, 'acceleration']\n",
    "\n",
    "for track in data:\n",
    "    df = track.freeroll\n",
    "    t = df[T].to_numpy()\n",
    "    t0 = track.fine_splits[split_idx]\n",
    "    independent = t - t0\n",
    "    \n",
    "    for variable in variables:\n",
    "        # Plot the variable if it exists in the raw data\n",
    "        if variable in df:\n",
    "            dependent = df[variable].to_numpy()\n",
    "            plt.plot(independent, dependent, label=f'{track} {variable} raw')\n",
    "        # Plot the variable if it has a model or derivation\n",
    "        if hasattr(track, variable):\n",
    "            dependent = getattr(track, variable)(t)\n",
    "            plt.plot(independent, dependent, label=f'{track} {variable} smoothed')\n",
    "\n",
    "plt.axvline(x=0, color='gray', ls='--', lw=0.8)\n",
    "plt.suptitle(f'{variables} vs Time (s)')\n",
    "plt.legend()\n",
    "plt.show()"
   ]
  },
  {
   "cell_type": "markdown",
   "id": "47de3417-f58b-4a7b-8b93-e4af4bc68d8e",
   "metadata": {},
   "source": [
    "# Plotting with Reference Points\n",
    "With a stopwatch, you are generally limited to just a handful of split times, but we have literally hundreds of refrence points we could split at. By putting the distance along the reference track on the x-axis, our data is inherently aligned, and we know that we're making a fair apples to apples comparison over the entire domain.\n",
    "\n",
    "Note that distance along individual tracks can still vary significantly, so `reference_distance` is used as the independent variable in these plots.\n",
    "\n",
    "Speed, Acceleration, and Drag are chosen for this plot to help derive insight into how fast the buggy was traveling during the freeroll and how efficiently it converts its gravitational potential energy into forward momentum."
   ]
  },
  {
   "cell_type": "code",
   "execution_count": null,
   "id": "a6a3afd3-9d1c-448c-b531-9b0eb4232d58",
   "metadata": {},
   "outputs": [],
   "source": [
    "plt.figure()\n",
    "speed = plt.subplot(3,2,1)\n",
    "plt.setp(speed.get_xticklabels(), visible=False)\n",
    "acceleration = plt.subplot(3,2,3, sharex=speed)\n",
    "acceleration.axhline(y=0, color='gray', lw=0.8)\n",
    "plt.setp(acceleration.get_xticklabels(), visible=False)\n",
    "drag = plt.subplot(3,2,5, sharex=speed)\n",
    "birds_eye = plt.subplot(1,2,2)\n",
    "for track in data:\n",
    "    line, = speed.plot(reference_distance, track.speed(track.fine_splits))\n",
    "    acceleration.plot(reference_distance, track.acceleration(track.fine_splits) / G)\n",
    "    drag.plot(reference_distance, track.drag(track.fine_splits))\n",
    "    label = f'{track.buggy_name}\\n{track.date} roll {track.roll_number}'\n",
    "    birds_eye.plot(track.full_dataframe[X].to_numpy(), track.full_dataframe[Y].to_numpy(), label=label)\n",
    "plt.suptitle('Variable vs. Reference Distance (m)')\n",
    "speed.set_ylabel('Speed (m/s)')\n",
    "acceleration.set_ylabel('Accl (Gs)')\n",
    "drag.set_ylabel('Drag (Gs)')\n",
    "drag.set_xlabel('Reference Distance (m)')\n",
    "drag.set_ylim(0, 0.05)\n",
    "add_birds_eye_view(birds_eye, reference_track.split_xs, reference_track.split_ys, reference_distance)\n",
    "add_crosshairs(speed, acceleration, drag)\n",
    "birds_eye.legend()\n",
    "plt.tight_layout(h_pad=0, pad=1)\n",
    "plt.show()"
   ]
  },
  {
   "cell_type": "markdown",
   "id": "736d7d1e-f888-4317-b5ce-2a9d0c05f17e",
   "metadata": {},
   "source": [
    "# Resampling\n",
    "Your GPS data should have a reported accuracy or standard deviation depending on the solver was configured. The `track.resample()` function uses these uncertainties to generate a new track that represents what it might look like if we had collected another set of GPS data for a perfectly identical roll.\n",
    "\n",
    "### Monte Carlo Simulation\n",
    "Ideally, drag would also be reported with its own uncertainty. In lieue of developing a complicated model to include error bars on our drag estimate, we can get a reasonable approximation by running a series of Monte Carlo simulations to see how our drag estimation changes if we feed it resampled data. If the resampled estimates are all tightly clustered together, we can be confident that the drag estimation is precise and accurate in that area. If the resampled estimates are spread out, a difference we see in our original comparison of two rolls may be due to random variation in the data.\n",
    "\n",
    "You may have noticed that the spline we use to model speed is fairly aggressive in how it smooths the data. This model is tuned to give a clear and consistent estimate of drag. Drag is calculated from the derivative of speed and altitude, so it is very sensitive to over/under fitting the data. The Monte Carlo simulation helps us understand the range of possible outcomes from our estimation, and therefore how confident we should or perhaps more importantly should NOT be in conclusions that we might draw from the data.\n",
    "\n",
    "### Confidence Intervals\n",
    "Plotting Monte Carlo simulations makes for a very pretty picture, but it doesn't help us quantify the uncertainty in our estimate. The 16th quantile of the data is approximately 1 standard deviation below the median. The 50th quantile is the median value. The 84th quantile is approximately 1 standard deviation above the median. Note that the upper and lower quantiles are asymetrical about the median."
   ]
  },
  {
   "cell_type": "code",
   "execution_count": null,
   "id": "48586c11-11cc-41b3-8e07-0226319dd36e",
   "metadata": {},
   "outputs": [],
   "source": [
    "original_track = data[0]\n",
    "N = 100\n",
    "samples = [original_track.resample() for _ in range(N)]"
   ]
  },
  {
   "cell_type": "code",
   "execution_count": null,
   "id": "a2efca3d-2ca2-4849-89a2-32829249c0da",
   "metadata": {},
   "outputs": [],
   "source": [
    "start = time .time()\n",
    "fig, (drag, birdseye) = plt.subplots(2)\n",
    "alpha = 5.0 / N \n",
    "color = None\n",
    "for track in samples:\n",
    "    line, = drag.plot(\n",
    "        reference_distance, track.drag(track.fine_splits), \n",
    "        label=track, color=color, alpha=alpha)\n",
    "    if color is None:\n",
    "        color = line.get_color()\n",
    "birdseye.plot(original_track.freeroll[X].to_numpy(), original_track.freeroll[Y].to_numpy())\n",
    "fig.suptitle(f'Monte Carlo simulation of Drag (Gs) vs. Reference Distance (m)\\n{original_track.label}')\n",
    "add_birds_eye_view(birdseye, reference_track.split_xs, reference_track.split_ys, reference_distance)\n",
    "add_crosshairs(drag)\n",
    "drag.set_ylim(0, 0.05)\n",
    "drag.set_ylabel('Drag (Gs)')\n",
    "drag.set_xlabel('Reference Distance (m)')\n",
    "plt.tight_layout()\n",
    "plt.show()\n",
    "print(f'Runtime {time.time() - start}')"
   ]
  },
  {
   "cell_type": "code",
   "execution_count": null,
   "id": "3135c335-0e40-4354-ac61-dba32c908fe9",
   "metadata": {},
   "outputs": [],
   "source": [
    "start = time.time()\n",
    "drag = pd.DataFrame()\n",
    "for idx, track in enumerate(samples):\n",
    "    drag[idx] = track.drag(track.fine_splits)\n",
    "quantiles = drag.transpose().quantile(q=[0.16, 0.5, 0.84]).transpose()\n",
    "\n",
    "fig, (drag, birdseye) = plt.subplots(2)\n",
    "drag.plot(reference_distance, quantiles[0.16].to_numpy(), color=color, ls='--', alpha=0.8)\n",
    "drag.plot(reference_distance, quantiles[0.5].to_numpy(), color=color, lw=0.8)\n",
    "drag.plot(reference_distance, quantiles[0.84].to_numpy(), color=color, ls='--', alpha=0.8)\n",
    "fig.suptitle(f'{original_track.label}\\n16th, 50th, and 84th Quantiles of Drag (Gs) vs. Reference Distance (m)')\n",
    "add_birds_eye_view(birdseye, reference_track.split_xs, reference_track.split_ys, reference_distance)\n",
    "add_crosshairs(drag)\n",
    "drag.set_ylim(0, 0.05)\n",
    "drag.set_ylabel('Drag (Gs)')\n",
    "drag.set_xlabel('Reference Distance (m)')\n",
    "plt.tight_layout()\n",
    "plt.show()\n",
    "print(f'Runtime {time.time() - start}')"
   ]
  },
  {
   "cell_type": "code",
   "execution_count": null,
   "id": "f67f3bf5-5a55-4523-9e67-35e4a6209db9",
   "metadata": {},
   "outputs": [],
   "source": []
  }
 ],
 "metadata": {
  "kernelspec": {
   "display_name": "Python 3 (ipykernel)",
   "language": "python",
   "name": "python3"
  },
  "language_info": {
   "codemirror_mode": {
    "name": "ipython",
    "version": 3
   },
   "file_extension": ".py",
   "mimetype": "text/x-python",
   "name": "python",
   "nbconvert_exporter": "python",
   "pygments_lexer": "ipython3",
   "version": "3.11.6"
  }
 },
 "nbformat": 4,
 "nbformat_minor": 5
}
