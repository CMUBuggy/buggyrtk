{
 "cells": [
  {
   "cell_type": "markdown",
   "id": "f0953b10-3315-4837-a006-eb317b46b39e",
   "metadata": {},
   "source": [
    "# Chute\n",
    "This notebook is focused on analyzing the freeroll and chute turn to help drivers improve their performance.\n",
    "\n",
    "### Reference Track\n",
    "Here it is worth taking some care to select a good reference track, and possibly pick a new reference each week as your line improves. A higher quality reference track will allow you to collect higher quality feedback."
   ]
  },
  {
   "cell_type": "code",
   "execution_count": null,
   "id": "b785d512-8fb7-40b3-945f-44f79a77bc5e",
   "metadata": {},
   "outputs": [],
   "source": [
    "%matplotlib widget\n",
    "import json\n",
    "import os\n",
    "import numpy as np\n",
    "import pandas as pd\n",
    "\n",
    "import matplotlib.cm as cm\n",
    "import matplotlib.pyplot as plt\n",
    "\n",
    "from collections import defaultdict\n",
    "from glob import glob\n",
    "from scipy.interpolate import splprep, splev, BSpline, splrep\n",
    "from scipy.optimize import minimize\n",
    "\n",
    "from plot_utils import *\n",
    "from constants import *\n",
    "\n",
    "import reference\n",
    "\n",
    "reference_distance, reference_track = reference.load(f'{DATA_DIR}/parsed/yyyy-mm-dd_hhmmss_SonOfThunderpuppy_0.csv')\n",
    "print(f'Loaded {len(reference_distance)} reference points from {reference_track.data_path}')"
   ]
  },
  {
   "cell_type": "code",
   "execution_count": null,
   "id": "aeb3da70-ffd9-4494-a8f2-9535ba7e9c9f",
   "metadata": {},
   "outputs": [],
   "source": [
    "from track import Track\n",
    "# Load track data and list all the processed files\n",
    "file_patterns = [\n",
    "    f'{DATA_DIR}/parsed/yyyy-mm-dd*',\n",
    "]\n",
    "data_files = [file for pattern in file_patterns for file in glob(pattern)]\n",
    "data = []\n",
    "for data_file in data_files:\n",
    "    label = os.path.splitext(os.path.basename(data_file))[0]\n",
    "    data.append(Track(\n",
    "        label, data_file, reference_track,\n",
    "    ))\n",
    "    print(f'Loaded {label}')"
   ]
  },
  {
   "cell_type": "code",
   "execution_count": null,
   "id": "a6a3afd3-9d1c-448c-b531-9b0eb4232d58",
   "metadata": {
    "tags": []
   },
   "outputs": [],
   "source": [
    "fig = plt.figure()\n",
    "reference = reference_track\n",
    "x0 = reference.pos_x(reference.fine_splits)\n",
    "y0 = reference.pos_y(reference.fine_splits)\n",
    "# transpose and flip the x coordinate to point left of the forward vector\n",
    "left_x = -reference.vel_y(reference.fine_splits)\n",
    "left_y = reference.vel_x(reference.fine_splits)\n",
    "norm = np.sqrt(left_x**2 + left_y**2)\n",
    "ref_speed = reference.speed(reference.fine_splits)\n",
    "\n",
    "curvature = plt.subplot(3,2,1)\n",
    "plt.setp(curvature.get_xticklabels(), visible=False)\n",
    "deviation = plt.subplot(3,2,3, sharex=curvature)\n",
    "plt.setp(deviation.get_xticklabels(), visible=False)\n",
    "speed = plt.subplot(3,2,5, sharex=curvature)\n",
    "birds_eye = plt.subplot(1,2,2)\n",
    "for track in data:\n",
    "    line, = curvature.plot(reference_distance, track.curvature_2d(track.fine_splits))\n",
    "    color = line.get_color()\n",
    "    \n",
    "    t = track.fine_splits\n",
    "    deviation_left = (track.pos_x(t) - x0) * left_x + (track.pos_y(t) - y0) * left_y\n",
    "    deviation_left /= norm\n",
    "    deviation.plot(reference_distance, deviation_left)\n",
    "    \n",
    "    label = f'{track.buggy_name}\\n{track.date} roll {track.roll_number}'\n",
    "    x, y = track.pos_x(track.fine_splits), track.pos_y(track.fine_splits)\n",
    "    birds_eye.plot(x, y, c=color, ls='--')\n",
    "    birds_eye.plot(track.full_dataframe[X].to_numpy(), track.full_dataframe[Y].to_numpy(), label=label)\n",
    "    \n",
    "    speed.plot(reference_distance, track.speed(t) - ref_speed, label=track)\n",
    "plt.suptitle('Variable vs. Reference Distance (m)')\n",
    "curvature.set_ylabel('Curvature (1/m)')\n",
    "curvature.axhline(y=0, color='gray', lw=0.8)\n",
    "deviation.set_ylabel('Deviation Left\\n(m)')\n",
    "deviation.axhline(y=0, color='gray', lw=0.8)\n",
    "speed.set_ylabel('Relative Speed\\n(m/s)')\n",
    "speed.set_xlabel('Reference Distance (m)')\n",
    "speed.axhline(y=0, color='gray', lw=0.8)\n",
    "add_birds_eye_view(birds_eye, reference_track.split_xs, reference_track.split_ys, reference_distance)\n",
    "add_crosshairs(deviation, speed, curvature)\n",
    "birds_eye.legend()\n",
    "plt.tight_layout(h_pad=0, pad=1)\n",
    "plt.show()"
   ]
  },
  {
   "cell_type": "markdown",
   "id": "b3eca5fe-5198-4c8d-9873-b6ac66dc5d46",
   "metadata": {},
   "source": [
    "# Next Steps"
   ]
  },
  {
   "cell_type": "code",
   "execution_count": null,
   "id": "ea30f3b0-bff2-4bbf-aae7-3c6509ab6979",
   "metadata": {},
   "outputs": [],
   "source": []
  }
 ],
 "metadata": {
  "kernelspec": {
   "display_name": "Python 3 (ipykernel)",
   "language": "python",
   "name": "python3"
  },
  "language_info": {
   "codemirror_mode": {
    "name": "ipython",
    "version": 3
   },
   "file_extension": ".py",
   "mimetype": "text/x-python",
   "name": "python",
   "nbconvert_exporter": "python",
   "pygments_lexer": "ipython3",
   "version": "3.11.6"
  }
 },
 "nbformat": 4,
 "nbformat_minor": 5
}
