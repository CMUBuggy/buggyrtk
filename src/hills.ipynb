{
 "cells": [
  {
   "cell_type": "markdown",
   "id": "948fec81-223b-438d-8897-fd0cc31b1dea",
   "metadata": {
    "tags": []
   },
   "source": [
    "# Hills\n",
    "This notebook is focused on analyzing pusher performance.\n",
    "\n",
    "1) Read a set of roll data\n",
    "2) Read a name, buggy, start time data from a CSV\n",
    "3) Split the roll data into segments\n",
    "4) Associate names with each segment \n",
    "5) Compute statistics, average speed, number of pushes, average impulse?\n",
    "6) Write statistics to a csv"
   ]
  },
  {
   "cell_type": "code",
   "execution_count": null,
   "id": "11c7db04-5f49-41cd-9aeb-3c98c963a42d",
   "metadata": {},
   "outputs": [],
   "source": [
    "%matplotlib widget\n",
    "import datetime\n",
    "import os\n",
    "import matplotlib.pyplot as plt\n",
    "import numpy as np\n",
    "import pandas as pd\n",
    "\n",
    "from glob import glob\n",
    "from ipywidgets import interact, BoundedIntText\n",
    "from scipy.integrate import cumulative_simpson\n",
    "from scipy.interpolate import splprep, splev\n",
    "\n",
    "from constants import *\n",
    "from plot_utils import *\n",
    "from track import Track"
   ]
  },
  {
   "cell_type": "code",
   "execution_count": null,
   "id": "3de545cb-35cd-41da-9c61-dca080a0244d",
   "metadata": {},
   "outputs": [],
   "source": [
    "from track import Track\n",
    "# Load track data and list all the processed files\n",
    "file_patterns = [\n",
    "    f'{DATA_DIR}/parsed/yyyy-mm-dd*',\n",
    "]\n",
    "parsed_files = [file for pattern in file_patterns for file in glob(pattern)]\n",
    "reference_track=None\n",
    "data = []\n",
    "for file in parsed_files:\n",
    "    label = os.path.splitext(os.path.basename(file))[0]\n",
    "    data.append(Track(label, file))\n",
    "    print(f'Loaded {label}')"
   ]
  },
  {
   "cell_type": "code",
   "execution_count": null,
   "id": "1e0aa8ac-f0a3-4689-a05c-5f8e36a04417",
   "metadata": {},
   "outputs": [],
   "source": [
    "PUSHER = 'Pusher'\n",
    "BUGGY = 'Buggy'\n",
    "HILL = 'Hill'\n",
    "START = 'Start Time'\n",
    "DATE = 'Date'\n",
    "columns = [PUSHER, BUGGY, HILL, START, DATE]\n",
    "\n",
    "pusher_data = pd.read_csv(f'{DATA_DIR}/pushers/yyyy-mm-dd_pushers.csv')\n",
    "\n",
    "if pd.api.types.is_numeric_dtype(pusher_data[HILL]):\n",
    "    pusher_data[HILL] = pusher_data[HILL].map(lambda N: f'Hill {N}')\n",
    "if not pd.api.types.is_datetime64_any_dtype(pusher_data[START]):\n",
    "    dt = pusher_data[DATE] + 'T' + pusher_data[START]\n",
    "    pusher_data[START] = pd.to_datetime(dt).dt.tz_localize('US/Eastern')\n",
    "pusher_data"
   ]
  },
  {
   "cell_type": "code",
   "execution_count": null,
   "id": "207ab5e8-8a50-4c5c-b79a-67eb75add1f5",
   "metadata": {},
   "outputs": [],
   "source": [
    "GPS_START = 'GPS start time'\n",
    "GPS_END = 'GPS end time'\n",
    "DATA = 'DataFrame'\n",
    "UNKNOWN = 'unknown'\n",
    "columns = [BUGGY, HILL, GPS_START, GPS_END, START, PUSHER, DATA]\n",
    "hills = []\n",
    "for track in data:\n",
    "    print(f'Scanning: {track.label}')\n",
    "    buggy_name = track.buggy_name\n",
    "    for hill_label, gps_start, gps_end in track.get_all_hill_splits():\n",
    "        pusher = UNKNOWN\n",
    "        df = track.time_slice(gps_start, gps_end)\n",
    "        origin = track.date\n",
    "        start = pd.to_datetime(gps_start % (24*60*60), unit='s', origin=origin).tz_localize('utc').tz_convert('US/Eastern')\n",
    "        hills.append([buggy_name, hill_label, gps_start, gps_end, start, pusher, df])\n",
    "hills = pd.DataFrame(hills, columns=columns)\n",
    "# Convert GPS seconds of week to local time\n",
    "# hills[START] = pd.to_datetime(hills[GPS_START] % (24*60*60), unit='s', origin=date).dt.tz_localize('utc').dt.tz_convert('US/Eastern')\n",
    "hills"
   ]
  },
  {
   "cell_type": "code",
   "execution_count": null,
   "id": "a1c1bfa1-f4b3-49a8-aabb-d533d0a503dd",
   "metadata": {},
   "outputs": [],
   "source": [
    "for pusher, buggy, hill, start, date in pusher_data.to_numpy():\n",
    "    mask = (hills[BUGGY] == buggy) & (hills[HILL] == hill)\n",
    "    candidates = hills[mask]\n",
    "    delta = (candidates[START] - start).abs()\n",
    "    idx = delta.idxmin()\n",
    "    prev = hills[PUSHER][idx]\n",
    "    if prev != 'unknown' and prev != pusher:\n",
    "        print(f'Conflict: {prev, pusher, buggy, hill, start, candidates[START][idx]}')\n",
    "        continue\n",
    "    hills.loc[idx, PUSHER] = pusher\n",
    "print(f'Matched: {(hills[PUSHER] != UNKNOWN).sum()}')\n",
    "print(f'Unmatched: {(hills[PUSHER] == UNKNOWN).sum()}')"
   ]
  },
  {
   "cell_type": "code",
   "execution_count": null,
   "id": "480273d0-4f38-4d2b-bd74-4c09bb2e96ca",
   "metadata": {},
   "outputs": [],
   "source": [
    "for label, group in hills.groupby(HILL):\n",
    "    fig, ax = plt.subplots()\n",
    "    fig.suptitle(label)\n",
    "    ax.set_xlabel('Split Time (s)')\n",
    "    ax.set_ylabel('Speed (m/s)')\n",
    "    ax.set_ylim(0, 8)\n",
    "    for idx in group.index:\n",
    "        pusher = group[PUSHER][idx]\n",
    "        df = group[DATA][idx]\n",
    "        if label in [HILL_1, HILL_2]:\n",
    "            align_to = df[df[Y] < HILLS[label].start.y].index[0]\n",
    "        else:\n",
    "            align_to = df[df[X] > HILLS[label].start.x].index[0]\n",
    "        t = (df[T] - df[T][align_to]).to_numpy()\n",
    "        s = df[SPEED].to_numpy()\n",
    "        ax.plot(t, s, label=pusher)\n",
    "        ax.axvline(x=0, color='gray', lw=0.8)\n",
    "    ax.legend()\n",
    "plt.show()"
   ]
  },
  {
   "cell_type": "code",
   "execution_count": null,
   "id": "82b15273-028a-4db9-9ff0-28106b670d2d",
   "metadata": {},
   "outputs": [],
   "source": []
  }
 ],
 "metadata": {
  "kernelspec": {
   "display_name": "Python 3 (ipykernel)",
   "language": "python",
   "name": "python3"
  },
  "language_info": {
   "codemirror_mode": {
    "name": "ipython",
    "version": 3
   },
   "file_extension": ".py",
   "mimetype": "text/x-python",
   "name": "python",
   "nbconvert_exporter": "python",
   "pygments_lexer": "ipython3",
   "version": "3.11.6"
  }
 },
 "nbformat": 4,
 "nbformat_minor": 5
}
